{
 "cells": [
  {
   "cell_type": "markdown",
   "id": "32346a06",
   "metadata": {},
   "source": [
    "# Fuck YOU"
   ]
  },
  {
   "cell_type": "markdown",
   "id": "fd754562",
   "metadata": {},
   "source": [
    "## Fuck YOU"
   ]
  },
  {
   "cell_type": "markdown",
   "id": "bbdc4917",
   "metadata": {},
   "source": [
    "### Fuck YOU"
   ]
  },
  {
   "cell_type": "markdown",
   "id": "53ee7a00",
   "metadata": {},
   "source": [
    "#### Fuck YOU"
   ]
  },
  {
   "cell_type": "markdown",
   "id": "ec27893c",
   "metadata": {},
   "source": [
    "##### Fuck YOU"
   ]
  },
  {
   "cell_type": "code",
   "execution_count": 5,
   "id": "cbbd9cb8",
   "metadata": {
    "scrolled": true
   },
   "outputs": [
    {
     "name": "stdout",
     "output_type": "stream",
     "text": [
      "Fuck You World\n"
     ]
    }
   ],
   "source": [
    "print(\"Fuck You World\") ## MY FIRST EVER CODE LINE"
   ]
  },
  {
   "cell_type": "code",
   "execution_count": 3,
   "id": "83e740a0",
   "metadata": {},
   "outputs": [
    {
     "name": "stdout",
     "output_type": "stream",
     "text": [
      "Mahima- My Love\n"
     ]
    }
   ],
   "source": [
    "print(\"Mahima- My Love\")"
   ]
  },
  {
   "cell_type": "code",
   "execution_count": null,
   "id": "a018c6fa",
   "metadata": {},
   "outputs": [],
   "source": []
  },
  {
   "cell_type": "code",
   "execution_count": null,
   "id": "248a0f3e",
   "metadata": {},
   "outputs": [],
   "source": []
  },
  {
   "cell_type": "code",
   "execution_count": null,
   "id": "64becf8c",
   "metadata": {},
   "outputs": [],
   "source": []
  },
  {
   "cell_type": "code",
   "execution_count": null,
   "id": "d25e09a5",
   "metadata": {},
   "outputs": [],
   "source": []
  },
  {
   "cell_type": "code",
   "execution_count": null,
   "id": "fa6d5789",
   "metadata": {},
   "outputs": [],
   "source": []
  },
  {
   "cell_type": "code",
   "execution_count": null,
   "id": "46abeeb0",
   "metadata": {},
   "outputs": [],
   "source": []
  },
  {
   "cell_type": "markdown",
   "id": "9ebfd325",
   "metadata": {},
   "source": [
    "## Shortcut Keys"
   ]
  },
  {
   "cell_type": "markdown",
   "id": "fd3e5eb0",
   "metadata": {},
   "source": [
    "##### 1. Shift+Enter=Run\n",
    "##### 2. And so on"
   ]
  }
 ],
 "metadata": {
  "kernelspec": {
   "display_name": "Python 3 (ipykernel)",
   "language": "python",
   "name": "python3"
  },
  "language_info": {
   "codemirror_mode": {
    "name": "ipython",
    "version": 3
   },
   "file_extension": ".py",
   "mimetype": "text/x-python",
   "name": "python",
   "nbconvert_exporter": "python",
   "pygments_lexer": "ipython3",
   "version": "3.9.12"
  }
 },
 "nbformat": 4,
 "nbformat_minor": 5
}
