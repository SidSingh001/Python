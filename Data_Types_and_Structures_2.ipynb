{
 "cells": [
  {
   "cell_type": "code",
   "execution_count": 2,
   "id": "e748011a",
   "metadata": {},
   "outputs": [
    {
     "data": {
      "text/plain": [
       "int"
      ]
     },
     "execution_count": 2,
     "metadata": {},
     "output_type": "execute_result"
    }
   ],
   "source": [
    "x=10\n",
    "type(10) #### or type(x)"
   ]
  },
  {
   "cell_type": "code",
   "execution_count": 6,
   "id": "fc060df1",
   "metadata": {
    "scrolled": true
   },
   "outputs": [
    {
     "data": {
      "text/plain": [
       "float"
      ]
     },
     "execution_count": 6,
     "metadata": {},
     "output_type": "execute_result"
    }
   ],
   "source": [
    "y=10.78\n",
    "type(y) "
   ]
  },
  {
   "cell_type": "markdown",
   "id": "67124116",
   "metadata": {},
   "source": [
    "#### float=decimal point, similarly normal text in apostrophies is called str (string)"
   ]
  },
  {
   "cell_type": "code",
   "execution_count": 8,
   "id": "3b85c6c8",
   "metadata": {},
   "outputs": [
    {
     "ename": "NameError",
     "evalue": "name 'true' is not defined",
     "output_type": "error",
     "traceback": [
      "\u001b[1;31m---------------------------------------------------------------------------\u001b[0m",
      "\u001b[1;31mNameError\u001b[0m                                 Traceback (most recent call last)",
      "Input \u001b[1;32mIn [8]\u001b[0m, in \u001b[0;36m<cell line: 1>\u001b[1;34m()\u001b[0m\n\u001b[1;32m----> 1\u001b[0m y\u001b[38;5;241m=\u001b[39m\u001b[43mtrue\u001b[49m\n\u001b[0;32m      2\u001b[0m \u001b[38;5;28mtype\u001b[39m(y)\n",
      "\u001b[1;31mNameError\u001b[0m: name 'true' is not defined"
     ]
    }
   ],
   "source": [
    "y=true\n",
    "type(y) #### Shoould be in capitals "
   ]
  },
  {
   "cell_type": "code",
   "execution_count": 16,
   "id": "d9046e4d",
   "metadata": {},
   "outputs": [
    {
     "data": {
      "text/plain": [
       "bool"
      ]
     },
     "execution_count": 16,
     "metadata": {},
     "output_type": "execute_result"
    }
   ],
   "source": [
    "y=False\n",
    "type(y) #### bool means boolean,i.e 0 & 1; same for true"
   ]
  },
  {
   "cell_type": "markdown",
   "id": "83e47bb1",
   "metadata": {},
   "source": [
    "## List"
   ]
  },
  {
   "cell_type": "code",
   "execution_count": 12,
   "id": "25f6dcd0",
   "metadata": {},
   "outputs": [
    {
     "ename": "SyntaxError",
     "evalue": "cannot assign to operator (408198435.py, line 1)",
     "output_type": "error",
     "traceback": [
      "\u001b[1;36m  Input \u001b[1;32mIn [12]\u001b[1;36m\u001b[0m\n\u001b[1;33m    sample-list=[11,12.4,girl,true]\u001b[0m\n\u001b[1;37m    ^\u001b[0m\n\u001b[1;31mSyntaxError\u001b[0m\u001b[1;31m:\u001b[0m cannot assign to operator\n"
     ]
    }
   ],
   "source": [
    "sample-list=[11,12.4,girl,true]\n",
    "sample-list ### It has various errors"
   ]
  },
  {
   "cell_type": "code",
   "execution_count": 13,
   "id": "652cbe14",
   "metadata": {},
   "outputs": [
    {
     "data": {
      "text/plain": [
       "[11, 12.4, 'girl', True]"
      ]
     },
     "execution_count": 13,
     "metadata": {},
     "output_type": "execute_result"
    }
   ],
   "source": [
    "sample_list=[11,12.4,'girl',True]\n",
    "sample_list"
   ]
  },
  {
   "cell_type": "code",
   "execution_count": 14,
   "id": "14eeab0f",
   "metadata": {},
   "outputs": [
    {
     "data": {
      "text/plain": [
       "list"
      ]
     },
     "execution_count": 14,
     "metadata": {},
     "output_type": "execute_result"
    }
   ],
   "source": [
    "type(sample_list)"
   ]
  },
  {
   "cell_type": "markdown",
   "id": "2af47840",
   "metadata": {},
   "source": [
    "#### List refers to a heterogenous collection of data types; list items are written in square brackets.\n",
    "#### Also numbering of list items or the index of the list starts from zero"
   ]
  },
  {
   "cell_type": "code",
   "execution_count": 19,
   "id": "c581f12d",
   "metadata": {},
   "outputs": [
    {
     "data": {
      "text/plain": [
       "'girl'"
      ]
     },
     "execution_count": 19,
     "metadata": {},
     "output_type": "execute_result"
    }
   ],
   "source": [
    "sample_list[2]"
   ]
  },
  {
   "cell_type": "code",
   "execution_count": 20,
   "id": "d3964fd0",
   "metadata": {},
   "outputs": [
    {
     "data": {
      "text/plain": [
       "[11, 12.4, 'man', True]"
      ]
     },
     "execution_count": 20,
     "metadata": {},
     "output_type": "execute_result"
    }
   ],
   "source": [
    "sample_list[2]='man'\n",
    "sample_list"
   ]
  },
  {
   "cell_type": "markdown",
   "id": "4b219afc",
   "metadata": {},
   "source": [
    "#### This method is used for replacing list items; this feature is called list 'mutability'"
   ]
  },
  {
   "cell_type": "markdown",
   "id": "9ff73c24",
   "metadata": {},
   "source": [
    "## Tuple"
   ]
  },
  {
   "cell_type": "code",
   "execution_count": 31,
   "id": "72935b54",
   "metadata": {},
   "outputs": [
    {
     "data": {
      "text/plain": [
       "(11, 12.4, 'girl', True)"
      ]
     },
     "execution_count": 31,
     "metadata": {},
     "output_type": "execute_result"
    }
   ],
   "source": [
    "sample_tuple=11,12.4,\"girl\",True\n",
    "sample_tuple"
   ]
  },
  {
   "cell_type": "code",
   "execution_count": 35,
   "id": "ff88e065",
   "metadata": {},
   "outputs": [
    {
     "data": {
      "text/plain": [
       "tuple"
      ]
     },
     "execution_count": 35,
     "metadata": {},
     "output_type": "execute_result"
    }
   ],
   "source": [
    "type(sample_tuple) "
   ]
  },
  {
   "cell_type": "markdown",
   "id": "b6c9eac7",
   "metadata": {},
   "source": [
    "#### If you write list instead of tuple, still it shows type as tuple; It works if you write in round bracket or even without brackets, unlike lists which requires square brackets; everything else is same, except tuple is immutable but list is mutable."
   ]
  },
  {
   "cell_type": "code",
   "execution_count": 33,
   "id": "5d7aedb4",
   "metadata": {},
   "outputs": [
    {
     "data": {
      "text/plain": [
       "'girl'"
      ]
     },
     "execution_count": 33,
     "metadata": {},
     "output_type": "execute_result"
    }
   ],
   "source": [
    "sample_tuple[2]"
   ]
  },
  {
   "cell_type": "code",
   "execution_count": 34,
   "id": "a646b1a4",
   "metadata": {},
   "outputs": [
    {
     "ename": "TypeError",
     "evalue": "'tuple' object does not support item assignment",
     "output_type": "error",
     "traceback": [
      "\u001b[1;31m---------------------------------------------------------------------------\u001b[0m",
      "\u001b[1;31mTypeError\u001b[0m                                 Traceback (most recent call last)",
      "Input \u001b[1;32mIn [34]\u001b[0m, in \u001b[0;36m<cell line: 1>\u001b[1;34m()\u001b[0m\n\u001b[1;32m----> 1\u001b[0m sample_tuple[\u001b[38;5;241m2\u001b[39m]\u001b[38;5;241m=\u001b[39m\u001b[38;5;124m'\u001b[39m\u001b[38;5;124mman\u001b[39m\u001b[38;5;124m'\u001b[39m\n\u001b[0;32m      2\u001b[0m sample_tuple\n",
      "\u001b[1;31mTypeError\u001b[0m: 'tuple' object does not support item assignment"
     ]
    }
   ],
   "source": [
    "sample_tuple[2]='man'\n",
    "sample_tuple"
   ]
  },
  {
   "cell_type": "markdown",
   "id": "1420d62c",
   "metadata": {},
   "source": [
    "## Set"
   ]
  },
  {
   "cell_type": "code",
   "execution_count": 36,
   "id": "dc5d6fe2",
   "metadata": {},
   "outputs": [
    {
     "data": {
      "text/plain": [
       "{0, 1, 11.3, 17, 2, 3, 4, 9, 'apple', 'hello', 'hi'}"
      ]
     },
     "execution_count": 36,
     "metadata": {},
     "output_type": "execute_result"
    }
   ],
   "source": [
    "sample_set={0,1,2,3,4,11.3,17,9,4,3,2,\"hi\",\"hello\",\"apple\"}\n",
    "sample_set"
   ]
  },
  {
   "cell_type": "code",
   "execution_count": 37,
   "id": "c9f94dc2",
   "metadata": {},
   "outputs": [
    {
     "ename": "TypeError",
     "evalue": "'set' object is not subscriptable",
     "output_type": "error",
     "traceback": [
      "\u001b[1;31m---------------------------------------------------------------------------\u001b[0m",
      "\u001b[1;31mTypeError\u001b[0m                                 Traceback (most recent call last)",
      "Input \u001b[1;32mIn [37]\u001b[0m, in \u001b[0;36m<cell line: 1>\u001b[1;34m()\u001b[0m\n\u001b[1;32m----> 1\u001b[0m \u001b[43msample_set\u001b[49m\u001b[43m[\u001b[49m\u001b[38;5;241;43m2\u001b[39;49m\u001b[43m]\u001b[49m\n",
      "\u001b[1;31mTypeError\u001b[0m: 'set' object is not subscriptable"
     ]
    }
   ],
   "source": [
    "sample_set[2]"
   ]
  },
  {
   "cell_type": "code",
   "execution_count": 38,
   "id": "4ed0e819",
   "metadata": {},
   "outputs": [
    {
     "data": {
      "text/plain": [
       "set"
      ]
     },
     "execution_count": 38,
     "metadata": {},
     "output_type": "execute_result"
    }
   ],
   "source": [
    "type(sample_set)"
   ]
  },
  {
   "cell_type": "code",
   "execution_count": 40,
   "id": "35f85ee0",
   "metadata": {},
   "outputs": [
    {
     "data": {
      "text/plain": [
       "{0, 1, 100, 11.3, 17, 2, 3, 4, 9, 'apple', 'hello', 'hi'}"
      ]
     },
     "execution_count": 40,
     "metadata": {},
     "output_type": "execute_result"
    }
   ],
   "source": [
    "sample_set.add(100)\n",
    "sample_set"
   ]
  },
  {
   "cell_type": "code",
   "execution_count": 41,
   "id": "79b17f29",
   "metadata": {},
   "outputs": [
    {
     "data": {
      "text/plain": [
       "{0, 100, 11.3, 17, 2, 3, 4, 9, 'apple', 'hello', 'hi'}"
      ]
     },
     "execution_count": 41,
     "metadata": {},
     "output_type": "execute_result"
    }
   ],
   "source": [
    "sample_set.remove(1)\n",
    "sample_set"
   ]
  },
  {
   "cell_type": "markdown",
   "id": "83564e29",
   "metadata": {},
   "source": [
    "#### Properties of Set: Heterogenous, Curly Brackets, Ordering Done according to first place, No Duplicates, Non-Indexable, Immutable (through add and remove but not through index)"
   ]
  },
  {
   "cell_type": "markdown",
   "id": "1234f144",
   "metadata": {},
   "source": [
    "## Dictionary"
   ]
  },
  {
   "cell_type": "code",
   "execution_count": 45,
   "id": "0532904f",
   "metadata": {},
   "outputs": [
    {
     "data": {
      "text/plain": [
       "{'a': 'alpha', 'b': 'beta', '4': '123', 'd': '123', 'x': 'alpha'}"
      ]
     },
     "execution_count": 45,
     "metadata": {},
     "output_type": "execute_result"
    }
   ],
   "source": [
    "sample_dict={\"a\":\"alpha\",\"b\":\"beta\",\"4\":\"hi\",\"d\":\"123\",\"4\":\"123\",\"b\":\"beta\",\"x\":\"alpha\"}\n",
    "sample_dict"
   ]
  },
  {
   "cell_type": "code",
   "execution_count": 47,
   "id": "6b0482d0",
   "metadata": {},
   "outputs": [
    {
     "data": {
      "text/plain": [
       "'123'"
      ]
     },
     "execution_count": 47,
     "metadata": {},
     "output_type": "execute_result"
    }
   ],
   "source": [
    "sample_dict[\"4\"]"
   ]
  },
  {
   "cell_type": "code",
   "execution_count": 49,
   "id": "b85f3534",
   "metadata": {},
   "outputs": [
    {
     "data": {
      "text/plain": [
       "{'a': 'alpha', 'b': 200, '4': '123', 'd': '123', 'x': 'alpha'}"
      ]
     },
     "execution_count": 49,
     "metadata": {},
     "output_type": "execute_result"
    }
   ],
   "source": [
    "sample_dict[\"b\"]=200\n",
    "sample_dict"
   ]
  },
  {
   "cell_type": "markdown",
   "id": "7e10fade",
   "metadata": {},
   "source": [
    "#### Properties of Dictionary: Heterogenous, Curly Brackets, Indexable using keys, has a KEY-VALUE pair relatioship where keys should be unique but values can be repeated, in case of multiple repeated keys, it takes the value for the keys which is stated later (in last), mutable using keys"
   ]
  },
  {
   "cell_type": "code",
   "execution_count": null,
   "id": "d1db24c4",
   "metadata": {},
   "outputs": [],
   "source": []
  }
 ],
 "metadata": {
  "kernelspec": {
   "display_name": "Python 3 (ipykernel)",
   "language": "python",
   "name": "python3"
  },
  "language_info": {
   "codemirror_mode": {
    "name": "ipython",
    "version": 3
   },
   "file_extension": ".py",
   "mimetype": "text/x-python",
   "name": "python",
   "nbconvert_exporter": "python",
   "pygments_lexer": "ipython3",
   "version": "3.9.12"
  }
 },
 "nbformat": 4,
 "nbformat_minor": 5
}
