{
 "cells": [
  {
   "cell_type": "markdown",
   "id": "52fccade",
   "metadata": {},
   "source": [
    "### Rules for naming the Variables"
   ]
  },
  {
   "cell_type": "code",
   "execution_count": 8,
   "id": "be259375",
   "metadata": {},
   "outputs": [
    {
     "data": {
      "text/plain": [
       "('Tanuj', 'Anurag', 'Divyansh')"
      ]
     },
     "execution_count": 8,
     "metadata": {},
     "output_type": "execute_result"
    }
   ],
   "source": [
    "sample_names=\"Tanuj\",\"Anurag\",\"Divyansh\"\n",
    "sample_names"
   ]
  },
  {
   "cell_type": "code",
   "execution_count": 11,
   "id": "e3f24eab",
   "metadata": {},
   "outputs": [
    {
     "data": {
      "text/plain": [
       "'Tanuj'"
      ]
     },
     "execution_count": 11,
     "metadata": {},
     "output_type": "execute_result"
    }
   ],
   "source": [
    "names=\"Tanuj\"\n",
    "names"
   ]
  },
  {
   "cell_type": "code",
   "execution_count": 12,
   "id": "3133e228",
   "metadata": {},
   "outputs": [
    {
     "data": {
      "text/plain": [
       "'anurag, tanuj, divyansh'"
      ]
     },
     "execution_count": 12,
     "metadata": {},
     "output_type": "execute_result"
    }
   ],
   "source": [
    "_names=\"anurag, tanuj, divyansh\"\n",
    "_names"
   ]
  },
  {
   "cell_type": "code",
   "execution_count": 13,
   "id": "25974ff8",
   "metadata": {},
   "outputs": [
    {
     "ename": "SyntaxError",
     "evalue": "invalid syntax (3505860053.py, line 1)",
     "output_type": "error",
     "traceback": [
      "\u001b[1;36m  Input \u001b[1;32mIn [13]\u001b[1;36m\u001b[0m\n\u001b[1;33m    3NAMES=\"Anurag\",\"Divyansh\",\"Tanuj\"\u001b[0m\n\u001b[1;37m     ^\u001b[0m\n\u001b[1;31mSyntaxError\u001b[0m\u001b[1;31m:\u001b[0m invalid syntax\n"
     ]
    }
   ],
   "source": [
    "3NAMES=\"Anurag\",\"Divyansh\",\"Tanuj\"\n",
    "3NAMES"
   ]
  },
  {
   "cell_type": "code",
   "execution_count": 19,
   "id": "e71233bd",
   "metadata": {},
   "outputs": [
    {
     "data": {
      "text/plain": [
       "'Anurag, Tanuj,   Divyansh'"
      ]
     },
     "execution_count": 19,
     "metadata": {},
     "output_type": "execute_result"
    }
   ],
   "source": [
    "M3htaB=\"Anurag, Tanuj,   Divyansh\"\n",
    "M3htaB"
   ]
  },
  {
   "cell_type": "markdown",
   "id": "1a98b2b6",
   "metadata": {},
   "source": [
    "##### Any no. can't be written in the first place, only a-z, placing apostrophies differently, yields different results, also spaces in the code section are not usable, use underscore. Spaces are allowed in text section only."
   ]
  },
  {
   "cell_type": "code",
   "execution_count": null,
   "id": "ad2b69ad",
   "metadata": {},
   "outputs": [],
   "source": []
  }
 ],
 "metadata": {
  "kernelspec": {
   "display_name": "Python 3 (ipykernel)",
   "language": "python",
   "name": "python3"
  },
  "language_info": {
   "codemirror_mode": {
    "name": "ipython",
    "version": 3
   },
   "file_extension": ".py",
   "mimetype": "text/x-python",
   "name": "python",
   "nbconvert_exporter": "python",
   "pygments_lexer": "ipython3",
   "version": "3.9.12"
  }
 },
 "nbformat": 4,
 "nbformat_minor": 5
}
